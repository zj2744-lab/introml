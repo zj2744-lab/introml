{
  "cells": [
    {
      "cell_type": "markdown",
      "metadata": {
        "id": "F5OKEU_D1Dds"
      },
      "source": [
        "# Simple Linear Regression for Automobile mpg Data\n",
        "\n",
        "In this demo, you will see how to:\n",
        "* Load data from a text fileausing the `pandas` package\n",
        "* Create a scatter plot of data\n",
        "* Handle missing data\n",
        "* Fit a simple linear model\n",
        "* Plot the linear fit with the test data\n",
        "* Use a nonlinear transformation for an improved fit"
      ]
    },
    {
      "cell_type": "markdown",
      "metadata": {
        "id": "3V0kYUgy1Ddu"
      },
      "source": [
        "## Loading the Data\n",
        "\n",
        "The python [`pandas`](http://pandas.pydata.org/) library is a powerful package for data analysis.  In this course, we will use a small portion of its features -- just reading and writing data from files.  After reading the data, we will convert it to `numpy` for all numerical processing including running machine learning algorithms.\n",
        "\n",
        "We begin by loading the packages."
      ]
    },
    {
      "cell_type": "code",
      "execution_count": 1,
      "metadata": {
        "id": "nLe4WaPP1Ddu"
      },
      "outputs": [],
      "source": [
        "import pandas as pd\n",
        "import numpy as np"
      ]
    },
    {
      "cell_type": "markdown",
      "metadata": {
        "id": "aaXFuADa1Ddu"
      },
      "source": [
        "The data for this demo comes from a survey of cars to determine the relation of mpg to engine characteristics.  The data can be found in the UCI library:\n",
        "https://archive.ics.uci.edu/ml/machine-learning-databases/auto-mpg"
      ]
    },
    {
      "cell_type": "markdown",
      "metadata": {
        "id": "27o4YpCV1Ddu"
      },
      "source": [
        "### Try 1:  Loading the Data Incorrectly\n",
        "\n",
        "The pandas has very good methods for loading data from ASCII tables. In this case, we want to read the data in the file:\n",
        "https://archive.ics.uci.edu/ml/machine-learning-databases/auto-mpg/auto-mpg.data\n",
        "\n",
        "Since the file is a CSV file (comma-separated-values), we can try to use the `read_csv` command:"
      ]
    },
    {
      "cell_type": "markdown",
      "metadata": {
        "id": "CtRRMzEB1Ddv"
      },
      "source": [
        "This creates a pandas *dataframe*. We can see the first six lines of the dataframe with `head` command:"
      ]
    },
    {
      "cell_type": "code",
      "execution_count": 2,
      "metadata": {
        "id": "EPYPu_1q1Ddv"
      },
      "outputs": [],
      "source": [
        "df = pd.read_csv('https://archive.ics.uci.edu/ml/machine-learning-databases/auto-mpg/auto-mpg.data')"
      ]
    },
    {
      "cell_type": "markdown",
      "metadata": {
        "id": "AV1bdHn71Ddv"
      },
      "source": [
        "There were three errors:\n",
        "* All the data appeared in one column.  That is, the columns were not \"delimited\" correctly\n",
        "* The first line got mistook as a header\n",
        "* The columns are missing their header names"
      ]
    },
    {
      "cell_type": "code",
      "execution_count": 3,
      "metadata": {
        "id": "E-vof53j1Ddv",
        "outputId": "1be5bc06-6207-429c-a819-5f5d32d550bf",
        "colab": {
          "base_uri": "https://localhost:8080/",
          "height": 235
        }
      },
      "outputs": [
        {
          "output_type": "execute_result",
          "data": {
            "text/plain": [
              "  18.0   8   307.0      130.0      3504.      12.0   70  1\\t\"chevrolet chevelle malibu\"\n",
              "0  15.0   8   350.0      165.0      3693.      11...                                   \n",
              "1  18.0   8   318.0      150.0      3436.      11...                                   \n",
              "2  16.0   8   304.0      150.0      3433.      12...                                   \n",
              "3  17.0   8   302.0      140.0      3449.      10...                                   \n",
              "4  15.0   8   429.0      198.0      4341.      10...                                   \n",
              "5  14.0   8   454.0      220.0      4354.       9...                                   "
            ],
            "text/html": [
              "\n",
              "  <div id=\"df-7162c27c-8de2-43cf-a21e-56b0e243a91b\" class=\"colab-df-container\">\n",
              "    <div>\n",
              "<style scoped>\n",
              "    .dataframe tbody tr th:only-of-type {\n",
              "        vertical-align: middle;\n",
              "    }\n",
              "\n",
              "    .dataframe tbody tr th {\n",
              "        vertical-align: top;\n",
              "    }\n",
              "\n",
              "    .dataframe thead th {\n",
              "        text-align: right;\n",
              "    }\n",
              "</style>\n",
              "<table border=\"1\" class=\"dataframe\">\n",
              "  <thead>\n",
              "    <tr style=\"text-align: right;\">\n",
              "      <th></th>\n",
              "      <th>18.0   8   307.0      130.0      3504.      12.0   70  1\\t\"chevrolet chevelle malibu\"</th>\n",
              "    </tr>\n",
              "  </thead>\n",
              "  <tbody>\n",
              "    <tr>\n",
              "      <th>0</th>\n",
              "      <td>15.0   8   350.0      165.0      3693.      11...</td>\n",
              "    </tr>\n",
              "    <tr>\n",
              "      <th>1</th>\n",
              "      <td>18.0   8   318.0      150.0      3436.      11...</td>\n",
              "    </tr>\n",
              "    <tr>\n",
              "      <th>2</th>\n",
              "      <td>16.0   8   304.0      150.0      3433.      12...</td>\n",
              "    </tr>\n",
              "    <tr>\n",
              "      <th>3</th>\n",
              "      <td>17.0   8   302.0      140.0      3449.      10...</td>\n",
              "    </tr>\n",
              "    <tr>\n",
              "      <th>4</th>\n",
              "      <td>15.0   8   429.0      198.0      4341.      10...</td>\n",
              "    </tr>\n",
              "    <tr>\n",
              "      <th>5</th>\n",
              "      <td>14.0   8   454.0      220.0      4354.       9...</td>\n",
              "    </tr>\n",
              "  </tbody>\n",
              "</table>\n",
              "</div>\n",
              "    <div class=\"colab-df-buttons\">\n",
              "\n",
              "  <div class=\"colab-df-container\">\n",
              "    <button class=\"colab-df-convert\" onclick=\"convertToInteractive('df-7162c27c-8de2-43cf-a21e-56b0e243a91b')\"\n",
              "            title=\"Convert this dataframe to an interactive table.\"\n",
              "            style=\"display:none;\">\n",
              "\n",
              "  <svg xmlns=\"http://www.w3.org/2000/svg\" height=\"24px\" viewBox=\"0 -960 960 960\">\n",
              "    <path d=\"M120-120v-720h720v720H120Zm60-500h600v-160H180v160Zm220 220h160v-160H400v160Zm0 220h160v-160H400v160ZM180-400h160v-160H180v160Zm440 0h160v-160H620v160ZM180-180h160v-160H180v160Zm440 0h160v-160H620v160Z\"/>\n",
              "  </svg>\n",
              "    </button>\n",
              "\n",
              "  <style>\n",
              "    .colab-df-container {\n",
              "      display:flex;\n",
              "      gap: 12px;\n",
              "    }\n",
              "\n",
              "    .colab-df-convert {\n",
              "      background-color: #E8F0FE;\n",
              "      border: none;\n",
              "      border-radius: 50%;\n",
              "      cursor: pointer;\n",
              "      display: none;\n",
              "      fill: #1967D2;\n",
              "      height: 32px;\n",
              "      padding: 0 0 0 0;\n",
              "      width: 32px;\n",
              "    }\n",
              "\n",
              "    .colab-df-convert:hover {\n",
              "      background-color: #E2EBFA;\n",
              "      box-shadow: 0px 1px 2px rgba(60, 64, 67, 0.3), 0px 1px 3px 1px rgba(60, 64, 67, 0.15);\n",
              "      fill: #174EA6;\n",
              "    }\n",
              "\n",
              "    .colab-df-buttons div {\n",
              "      margin-bottom: 4px;\n",
              "    }\n",
              "\n",
              "    [theme=dark] .colab-df-convert {\n",
              "      background-color: #3B4455;\n",
              "      fill: #D2E3FC;\n",
              "    }\n",
              "\n",
              "    [theme=dark] .colab-df-convert:hover {\n",
              "      background-color: #434B5C;\n",
              "      box-shadow: 0px 1px 3px 1px rgba(0, 0, 0, 0.15);\n",
              "      filter: drop-shadow(0px 1px 2px rgba(0, 0, 0, 0.3));\n",
              "      fill: #FFFFFF;\n",
              "    }\n",
              "  </style>\n",
              "\n",
              "    <script>\n",
              "      const buttonEl =\n",
              "        document.querySelector('#df-7162c27c-8de2-43cf-a21e-56b0e243a91b button.colab-df-convert');\n",
              "      buttonEl.style.display =\n",
              "        google.colab.kernel.accessAllowed ? 'block' : 'none';\n",
              "\n",
              "      async function convertToInteractive(key) {\n",
              "        const element = document.querySelector('#df-7162c27c-8de2-43cf-a21e-56b0e243a91b');\n",
              "        const dataTable =\n",
              "          await google.colab.kernel.invokeFunction('convertToInteractive',\n",
              "                                                    [key], {});\n",
              "        if (!dataTable) return;\n",
              "\n",
              "        const docLinkHtml = 'Like what you see? Visit the ' +\n",
              "          '<a target=\"_blank\" href=https://colab.research.google.com/notebooks/data_table.ipynb>data table notebook</a>'\n",
              "          + ' to learn more about interactive tables.';\n",
              "        element.innerHTML = '';\n",
              "        dataTable['output_type'] = 'display_data';\n",
              "        await google.colab.output.renderOutput(dataTable, element);\n",
              "        const docLink = document.createElement('div');\n",
              "        docLink.innerHTML = docLinkHtml;\n",
              "        element.appendChild(docLink);\n",
              "      }\n",
              "    </script>\n",
              "  </div>\n",
              "\n",
              "\n",
              "    <div id=\"df-e1b2c513-c761-426c-b232-b21fa91ce641\">\n",
              "      <button class=\"colab-df-quickchart\" onclick=\"quickchart('df-e1b2c513-c761-426c-b232-b21fa91ce641')\"\n",
              "                title=\"Suggest charts\"\n",
              "                style=\"display:none;\">\n",
              "\n",
              "<svg xmlns=\"http://www.w3.org/2000/svg\" height=\"24px\"viewBox=\"0 0 24 24\"\n",
              "     width=\"24px\">\n",
              "    <g>\n",
              "        <path d=\"M19 3H5c-1.1 0-2 .9-2 2v14c0 1.1.9 2 2 2h14c1.1 0 2-.9 2-2V5c0-1.1-.9-2-2-2zM9 17H7v-7h2v7zm4 0h-2V7h2v10zm4 0h-2v-4h2v4z\"/>\n",
              "    </g>\n",
              "</svg>\n",
              "      </button>\n",
              "\n",
              "<style>\n",
              "  .colab-df-quickchart {\n",
              "      --bg-color: #E8F0FE;\n",
              "      --fill-color: #1967D2;\n",
              "      --hover-bg-color: #E2EBFA;\n",
              "      --hover-fill-color: #174EA6;\n",
              "      --disabled-fill-color: #AAA;\n",
              "      --disabled-bg-color: #DDD;\n",
              "  }\n",
              "\n",
              "  [theme=dark] .colab-df-quickchart {\n",
              "      --bg-color: #3B4455;\n",
              "      --fill-color: #D2E3FC;\n",
              "      --hover-bg-color: #434B5C;\n",
              "      --hover-fill-color: #FFFFFF;\n",
              "      --disabled-bg-color: #3B4455;\n",
              "      --disabled-fill-color: #666;\n",
              "  }\n",
              "\n",
              "  .colab-df-quickchart {\n",
              "    background-color: var(--bg-color);\n",
              "    border: none;\n",
              "    border-radius: 50%;\n",
              "    cursor: pointer;\n",
              "    display: none;\n",
              "    fill: var(--fill-color);\n",
              "    height: 32px;\n",
              "    padding: 0;\n",
              "    width: 32px;\n",
              "  }\n",
              "\n",
              "  .colab-df-quickchart:hover {\n",
              "    background-color: var(--hover-bg-color);\n",
              "    box-shadow: 0 1px 2px rgba(60, 64, 67, 0.3), 0 1px 3px 1px rgba(60, 64, 67, 0.15);\n",
              "    fill: var(--button-hover-fill-color);\n",
              "  }\n",
              "\n",
              "  .colab-df-quickchart-complete:disabled,\n",
              "  .colab-df-quickchart-complete:disabled:hover {\n",
              "    background-color: var(--disabled-bg-color);\n",
              "    fill: var(--disabled-fill-color);\n",
              "    box-shadow: none;\n",
              "  }\n",
              "\n",
              "  .colab-df-spinner {\n",
              "    border: 2px solid var(--fill-color);\n",
              "    border-color: transparent;\n",
              "    border-bottom-color: var(--fill-color);\n",
              "    animation:\n",
              "      spin 1s steps(1) infinite;\n",
              "  }\n",
              "\n",
              "  @keyframes spin {\n",
              "    0% {\n",
              "      border-color: transparent;\n",
              "      border-bottom-color: var(--fill-color);\n",
              "      border-left-color: var(--fill-color);\n",
              "    }\n",
              "    20% {\n",
              "      border-color: transparent;\n",
              "      border-left-color: var(--fill-color);\n",
              "      border-top-color: var(--fill-color);\n",
              "    }\n",
              "    30% {\n",
              "      border-color: transparent;\n",
              "      border-left-color: var(--fill-color);\n",
              "      border-top-color: var(--fill-color);\n",
              "      border-right-color: var(--fill-color);\n",
              "    }\n",
              "    40% {\n",
              "      border-color: transparent;\n",
              "      border-right-color: var(--fill-color);\n",
              "      border-top-color: var(--fill-color);\n",
              "    }\n",
              "    60% {\n",
              "      border-color: transparent;\n",
              "      border-right-color: var(--fill-color);\n",
              "    }\n",
              "    80% {\n",
              "      border-color: transparent;\n",
              "      border-right-color: var(--fill-color);\n",
              "      border-bottom-color: var(--fill-color);\n",
              "    }\n",
              "    90% {\n",
              "      border-color: transparent;\n",
              "      border-bottom-color: var(--fill-color);\n",
              "    }\n",
              "  }\n",
              "</style>\n",
              "\n",
              "      <script>\n",
              "        async function quickchart(key) {\n",
              "          const quickchartButtonEl =\n",
              "            document.querySelector('#' + key + ' button');\n",
              "          quickchartButtonEl.disabled = true;  // To prevent multiple clicks.\n",
              "          quickchartButtonEl.classList.add('colab-df-spinner');\n",
              "          try {\n",
              "            const charts = await google.colab.kernel.invokeFunction(\n",
              "                'suggestCharts', [key], {});\n",
              "          } catch (error) {\n",
              "            console.error('Error during call to suggestCharts:', error);\n",
              "          }\n",
              "          quickchartButtonEl.classList.remove('colab-df-spinner');\n",
              "          quickchartButtonEl.classList.add('colab-df-quickchart-complete');\n",
              "        }\n",
              "        (() => {\n",
              "          let quickchartButtonEl =\n",
              "            document.querySelector('#df-e1b2c513-c761-426c-b232-b21fa91ce641 button');\n",
              "          quickchartButtonEl.style.display =\n",
              "            google.colab.kernel.accessAllowed ? 'block' : 'none';\n",
              "        })();\n",
              "      </script>\n",
              "    </div>\n",
              "\n",
              "    </div>\n",
              "  </div>\n"
            ],
            "application/vnd.google.colaboratory.intrinsic+json": {
              "type": "dataframe",
              "variable_name": "df",
              "summary": "{\n  \"name\": \"df\",\n  \"rows\": 397,\n  \"fields\": [\n    {\n      \"column\": \"18.0   8   307.0      130.0      3504.      12.0   70  1\\t\\\"chevrolet chevelle malibu\\\"\",\n      \"properties\": {\n        \"dtype\": \"string\",\n        \"num_unique_values\": 397,\n        \"samples\": [\n          \"15.0   8   350.0      145.0      4082.      13.0   73  1\\t\\\"chevrolet monte carlo s\\\"\",\n          \"29.5   4   98.00      68.00      2135.      16.6   78  3\\t\\\"honda accord lx\\\"\",\n          \"33.5   4   98.00      83.00      2075.      15.9   77  1\\t\\\"dodge colt m/m\\\"\"\n        ],\n        \"semantic_type\": \"\",\n        \"description\": \"\"\n      }\n    }\n  ]\n}"
            }
          },
          "metadata": {},
          "execution_count": 3
        }
      ],
      "source": [
        "df.head(6)"
      ]
    },
    {
      "cell_type": "markdown",
      "metadata": {
        "id": "Hw4N8Bpx1Ddv"
      },
      "source": [
        "### Try 2: Fixing the Errors in the loading\n",
        "\n",
        "The problems above are common.  Often it takes a few times to load the data correctly.  That is why it is\n",
        "good to look at the first few elements of the dataframe before proceeding.\n",
        "After some googling you can find out that you need to specify some other options to the `read_csv` command.\n",
        "First, you need to supply the names of the columns.  In this case, I have supplied them manually based on the\n",
        "description in the UCI website:"
      ]
    },
    {
      "cell_type": "code",
      "execution_count": 4,
      "metadata": {
        "id": "yCNem9eF1Ddv"
      },
      "outputs": [],
      "source": [
        "names = ['mpg', 'cylinders','displacement', 'horsepower',\n",
        "         'weight', 'acceleration', 'model year', 'origin', 'car name']"
      ]
    },
    {
      "cell_type": "code",
      "execution_count": 5,
      "metadata": {
        "id": "rw8kqzOa1Ddv",
        "outputId": "1414a400-2573-4d0c-cec1-08bd147429e8",
        "colab": {
          "base_uri": "https://localhost:8080/"
        }
      },
      "outputs": [
        {
          "output_type": "stream",
          "name": "stderr",
          "text": [
            "/tmp/ipython-input-3245505254.py:1: FutureWarning: The 'delim_whitespace' keyword in pd.read_csv is deprecated and will be removed in a future version. Use ``sep='\\s+'`` instead\n",
            "  df = pd.read_csv('https://archive.ics.uci.edu/ml/machine-learning-databases/'+\n"
          ]
        }
      ],
      "source": [
        "df = pd.read_csv('https://archive.ics.uci.edu/ml/machine-learning-databases/'+\n",
        "                 'auto-mpg/auto-mpg.data',\n",
        "                 header=None,delim_whitespace=True,names=names,na_values='?')"
      ]
    },
    {
      "cell_type": "markdown",
      "metadata": {
        "id": "O1orSVA71Ddv"
      },
      "source": [
        "If you re-run `head` command now, you can see the loading was correct. You can see the column names, index, and values:"
      ]
    },
    {
      "cell_type": "markdown",
      "metadata": {
        "id": "mIzDRLhz1Ddw"
      },
      "source": [
        "## Manipulating the Data\n",
        "We can get the `shape` of the data, which indicates the number of samples and number of attributes"
      ]
    },
    {
      "cell_type": "code",
      "execution_count": 6,
      "metadata": {
        "id": "2UJDcOFm1Ddw",
        "outputId": "a24a2e83-225c-45a8-9bdd-281629e0518b",
        "colab": {
          "base_uri": "https://localhost:8080/"
        }
      },
      "outputs": [
        {
          "output_type": "execute_result",
          "data": {
            "text/plain": [
              "(398, 9)"
            ]
          },
          "metadata": {},
          "execution_count": 6
        }
      ],
      "source": [
        "df.shape"
      ]
    },
    {
      "cell_type": "markdown",
      "metadata": {
        "id": "y_rae5kw1Ddw"
      },
      "source": [
        "You can also see the three components of the `dataframe` object.  The dataframe is stored in a table (similar to a SQL table if you know databases).  In this case, there is one row for each car and the attributes of the car are stored in the columns.  The command `df.columns` returns the names of the columns."
      ]
    },
    {
      "cell_type": "code",
      "execution_count": 7,
      "metadata": {
        "scrolled": true,
        "id": "alaDJkLL1Ddw",
        "outputId": "d2fb6a60-f6d9-4776-c80a-b9327c85e42a",
        "colab": {
          "base_uri": "https://localhost:8080/",
          "height": 235
        }
      },
      "outputs": [
        {
          "output_type": "execute_result",
          "data": {
            "text/plain": [
              "    mpg  cylinders  displacement  horsepower  weight  acceleration  \\\n",
              "0  18.0          8         307.0       130.0  3504.0          12.0   \n",
              "1  15.0          8         350.0       165.0  3693.0          11.5   \n",
              "2  18.0          8         318.0       150.0  3436.0          11.0   \n",
              "3  16.0          8         304.0       150.0  3433.0          12.0   \n",
              "4  17.0          8         302.0       140.0  3449.0          10.5   \n",
              "5  15.0          8         429.0       198.0  4341.0          10.0   \n",
              "\n",
              "   model year  origin                   car name  \n",
              "0          70       1  chevrolet chevelle malibu  \n",
              "1          70       1          buick skylark 320  \n",
              "2          70       1         plymouth satellite  \n",
              "3          70       1              amc rebel sst  \n",
              "4          70       1                ford torino  \n",
              "5          70       1           ford galaxie 500  "
            ],
            "text/html": [
              "\n",
              "  <div id=\"df-7e8fa419-1a48-4003-a4ab-ef213d367f39\" class=\"colab-df-container\">\n",
              "    <div>\n",
              "<style scoped>\n",
              "    .dataframe tbody tr th:only-of-type {\n",
              "        vertical-align: middle;\n",
              "    }\n",
              "\n",
              "    .dataframe tbody tr th {\n",
              "        vertical-align: top;\n",
              "    }\n",
              "\n",
              "    .dataframe thead th {\n",
              "        text-align: right;\n",
              "    }\n",
              "</style>\n",
              "<table border=\"1\" class=\"dataframe\">\n",
              "  <thead>\n",
              "    <tr style=\"text-align: right;\">\n",
              "      <th></th>\n",
              "      <th>mpg</th>\n",
              "      <th>cylinders</th>\n",
              "      <th>displacement</th>\n",
              "      <th>horsepower</th>\n",
              "      <th>weight</th>\n",
              "      <th>acceleration</th>\n",
              "      <th>model year</th>\n",
              "      <th>origin</th>\n",
              "      <th>car name</th>\n",
              "    </tr>\n",
              "  </thead>\n",
              "  <tbody>\n",
              "    <tr>\n",
              "      <th>0</th>\n",
              "      <td>18.0</td>\n",
              "      <td>8</td>\n",
              "      <td>307.0</td>\n",
              "      <td>130.0</td>\n",
              "      <td>3504.0</td>\n",
              "      <td>12.0</td>\n",
              "      <td>70</td>\n",
              "      <td>1</td>\n",
              "      <td>chevrolet chevelle malibu</td>\n",
              "    </tr>\n",
              "    <tr>\n",
              "      <th>1</th>\n",
              "      <td>15.0</td>\n",
              "      <td>8</td>\n",
              "      <td>350.0</td>\n",
              "      <td>165.0</td>\n",
              "      <td>3693.0</td>\n",
              "      <td>11.5</td>\n",
              "      <td>70</td>\n",
              "      <td>1</td>\n",
              "      <td>buick skylark 320</td>\n",
              "    </tr>\n",
              "    <tr>\n",
              "      <th>2</th>\n",
              "      <td>18.0</td>\n",
              "      <td>8</td>\n",
              "      <td>318.0</td>\n",
              "      <td>150.0</td>\n",
              "      <td>3436.0</td>\n",
              "      <td>11.0</td>\n",
              "      <td>70</td>\n",
              "      <td>1</td>\n",
              "      <td>plymouth satellite</td>\n",
              "    </tr>\n",
              "    <tr>\n",
              "      <th>3</th>\n",
              "      <td>16.0</td>\n",
              "      <td>8</td>\n",
              "      <td>304.0</td>\n",
              "      <td>150.0</td>\n",
              "      <td>3433.0</td>\n",
              "      <td>12.0</td>\n",
              "      <td>70</td>\n",
              "      <td>1</td>\n",
              "      <td>amc rebel sst</td>\n",
              "    </tr>\n",
              "    <tr>\n",
              "      <th>4</th>\n",
              "      <td>17.0</td>\n",
              "      <td>8</td>\n",
              "      <td>302.0</td>\n",
              "      <td>140.0</td>\n",
              "      <td>3449.0</td>\n",
              "      <td>10.5</td>\n",
              "      <td>70</td>\n",
              "      <td>1</td>\n",
              "      <td>ford torino</td>\n",
              "    </tr>\n",
              "    <tr>\n",
              "      <th>5</th>\n",
              "      <td>15.0</td>\n",
              "      <td>8</td>\n",
              "      <td>429.0</td>\n",
              "      <td>198.0</td>\n",
              "      <td>4341.0</td>\n",
              "      <td>10.0</td>\n",
              "      <td>70</td>\n",
              "      <td>1</td>\n",
              "      <td>ford galaxie 500</td>\n",
              "    </tr>\n",
              "  </tbody>\n",
              "</table>\n",
              "</div>\n",
              "    <div class=\"colab-df-buttons\">\n",
              "\n",
              "  <div class=\"colab-df-container\">\n",
              "    <button class=\"colab-df-convert\" onclick=\"convertToInteractive('df-7e8fa419-1a48-4003-a4ab-ef213d367f39')\"\n",
              "            title=\"Convert this dataframe to an interactive table.\"\n",
              "            style=\"display:none;\">\n",
              "\n",
              "  <svg xmlns=\"http://www.w3.org/2000/svg\" height=\"24px\" viewBox=\"0 -960 960 960\">\n",
              "    <path d=\"M120-120v-720h720v720H120Zm60-500h600v-160H180v160Zm220 220h160v-160H400v160Zm0 220h160v-160H400v160ZM180-400h160v-160H180v160Zm440 0h160v-160H620v160ZM180-180h160v-160H180v160Zm440 0h160v-160H620v160Z\"/>\n",
              "  </svg>\n",
              "    </button>\n",
              "\n",
              "  <style>\n",
              "    .colab-df-container {\n",
              "      display:flex;\n",
              "      gap: 12px;\n",
              "    }\n",
              "\n",
              "    .colab-df-convert {\n",
              "      background-color: #E8F0FE;\n",
              "      border: none;\n",
              "      border-radius: 50%;\n",
              "      cursor: pointer;\n",
              "      display: none;\n",
              "      fill: #1967D2;\n",
              "      height: 32px;\n",
              "      padding: 0 0 0 0;\n",
              "      width: 32px;\n",
              "    }\n",
              "\n",
              "    .colab-df-convert:hover {\n",
              "      background-color: #E2EBFA;\n",
              "      box-shadow: 0px 1px 2px rgba(60, 64, 67, 0.3), 0px 1px 3px 1px rgba(60, 64, 67, 0.15);\n",
              "      fill: #174EA6;\n",
              "    }\n",
              "\n",
              "    .colab-df-buttons div {\n",
              "      margin-bottom: 4px;\n",
              "    }\n",
              "\n",
              "    [theme=dark] .colab-df-convert {\n",
              "      background-color: #3B4455;\n",
              "      fill: #D2E3FC;\n",
              "    }\n",
              "\n",
              "    [theme=dark] .colab-df-convert:hover {\n",
              "      background-color: #434B5C;\n",
              "      box-shadow: 0px 1px 3px 1px rgba(0, 0, 0, 0.15);\n",
              "      filter: drop-shadow(0px 1px 2px rgba(0, 0, 0, 0.3));\n",
              "      fill: #FFFFFF;\n",
              "    }\n",
              "  </style>\n",
              "\n",
              "    <script>\n",
              "      const buttonEl =\n",
              "        document.querySelector('#df-7e8fa419-1a48-4003-a4ab-ef213d367f39 button.colab-df-convert');\n",
              "      buttonEl.style.display =\n",
              "        google.colab.kernel.accessAllowed ? 'block' : 'none';\n",
              "\n",
              "      async function convertToInteractive(key) {\n",
              "        const element = document.querySelector('#df-7e8fa419-1a48-4003-a4ab-ef213d367f39');\n",
              "        const dataTable =\n",
              "          await google.colab.kernel.invokeFunction('convertToInteractive',\n",
              "                                                    [key], {});\n",
              "        if (!dataTable) return;\n",
              "\n",
              "        const docLinkHtml = 'Like what you see? Visit the ' +\n",
              "          '<a target=\"_blank\" href=https://colab.research.google.com/notebooks/data_table.ipynb>data table notebook</a>'\n",
              "          + ' to learn more about interactive tables.';\n",
              "        element.innerHTML = '';\n",
              "        dataTable['output_type'] = 'display_data';\n",
              "        await google.colab.output.renderOutput(dataTable, element);\n",
              "        const docLink = document.createElement('div');\n",
              "        docLink.innerHTML = docLinkHtml;\n",
              "        element.appendChild(docLink);\n",
              "      }\n",
              "    </script>\n",
              "  </div>\n",
              "\n",
              "\n",
              "    <div id=\"df-089a33ed-6805-41b5-be7f-956166647862\">\n",
              "      <button class=\"colab-df-quickchart\" onclick=\"quickchart('df-089a33ed-6805-41b5-be7f-956166647862')\"\n",
              "                title=\"Suggest charts\"\n",
              "                style=\"display:none;\">\n",
              "\n",
              "<svg xmlns=\"http://www.w3.org/2000/svg\" height=\"24px\"viewBox=\"0 0 24 24\"\n",
              "     width=\"24px\">\n",
              "    <g>\n",
              "        <path d=\"M19 3H5c-1.1 0-2 .9-2 2v14c0 1.1.9 2 2 2h14c1.1 0 2-.9 2-2V5c0-1.1-.9-2-2-2zM9 17H7v-7h2v7zm4 0h-2V7h2v10zm4 0h-2v-4h2v4z\"/>\n",
              "    </g>\n",
              "</svg>\n",
              "      </button>\n",
              "\n",
              "<style>\n",
              "  .colab-df-quickchart {\n",
              "      --bg-color: #E8F0FE;\n",
              "      --fill-color: #1967D2;\n",
              "      --hover-bg-color: #E2EBFA;\n",
              "      --hover-fill-color: #174EA6;\n",
              "      --disabled-fill-color: #AAA;\n",
              "      --disabled-bg-color: #DDD;\n",
              "  }\n",
              "\n",
              "  [theme=dark] .colab-df-quickchart {\n",
              "      --bg-color: #3B4455;\n",
              "      --fill-color: #D2E3FC;\n",
              "      --hover-bg-color: #434B5C;\n",
              "      --hover-fill-color: #FFFFFF;\n",
              "      --disabled-bg-color: #3B4455;\n",
              "      --disabled-fill-color: #666;\n",
              "  }\n",
              "\n",
              "  .colab-df-quickchart {\n",
              "    background-color: var(--bg-color);\n",
              "    border: none;\n",
              "    border-radius: 50%;\n",
              "    cursor: pointer;\n",
              "    display: none;\n",
              "    fill: var(--fill-color);\n",
              "    height: 32px;\n",
              "    padding: 0;\n",
              "    width: 32px;\n",
              "  }\n",
              "\n",
              "  .colab-df-quickchart:hover {\n",
              "    background-color: var(--hover-bg-color);\n",
              "    box-shadow: 0 1px 2px rgba(60, 64, 67, 0.3), 0 1px 3px 1px rgba(60, 64, 67, 0.15);\n",
              "    fill: var(--button-hover-fill-color);\n",
              "  }\n",
              "\n",
              "  .colab-df-quickchart-complete:disabled,\n",
              "  .colab-df-quickchart-complete:disabled:hover {\n",
              "    background-color: var(--disabled-bg-color);\n",
              "    fill: var(--disabled-fill-color);\n",
              "    box-shadow: none;\n",
              "  }\n",
              "\n",
              "  .colab-df-spinner {\n",
              "    border: 2px solid var(--fill-color);\n",
              "    border-color: transparent;\n",
              "    border-bottom-color: var(--fill-color);\n",
              "    animation:\n",
              "      spin 1s steps(1) infinite;\n",
              "  }\n",
              "\n",
              "  @keyframes spin {\n",
              "    0% {\n",
              "      border-color: transparent;\n",
              "      border-bottom-color: var(--fill-color);\n",
              "      border-left-color: var(--fill-color);\n",
              "    }\n",
              "    20% {\n",
              "      border-color: transparent;\n",
              "      border-left-color: var(--fill-color);\n",
              "      border-top-color: var(--fill-color);\n",
              "    }\n",
              "    30% {\n",
              "      border-color: transparent;\n",
              "      border-left-color: var(--fill-color);\n",
              "      border-top-color: var(--fill-color);\n",
              "      border-right-color: var(--fill-color);\n",
              "    }\n",
              "    40% {\n",
              "      border-color: transparent;\n",
              "      border-right-color: var(--fill-color);\n",
              "      border-top-color: var(--fill-color);\n",
              "    }\n",
              "    60% {\n",
              "      border-color: transparent;\n",
              "      border-right-color: var(--fill-color);\n",
              "    }\n",
              "    80% {\n",
              "      border-color: transparent;\n",
              "      border-right-color: var(--fill-color);\n",
              "      border-bottom-color: var(--fill-color);\n",
              "    }\n",
              "    90% {\n",
              "      border-color: transparent;\n",
              "      border-bottom-color: var(--fill-color);\n",
              "    }\n",
              "  }\n",
              "</style>\n",
              "\n",
              "      <script>\n",
              "        async function quickchart(key) {\n",
              "          const quickchartButtonEl =\n",
              "            document.querySelector('#' + key + ' button');\n",
              "          quickchartButtonEl.disabled = true;  // To prevent multiple clicks.\n",
              "          quickchartButtonEl.classList.add('colab-df-spinner');\n",
              "          try {\n",
              "            const charts = await google.colab.kernel.invokeFunction(\n",
              "                'suggestCharts', [key], {});\n",
              "          } catch (error) {\n",
              "            console.error('Error during call to suggestCharts:', error);\n",
              "          }\n",
              "          quickchartButtonEl.classList.remove('colab-df-spinner');\n",
              "          quickchartButtonEl.classList.add('colab-df-quickchart-complete');\n",
              "        }\n",
              "        (() => {\n",
              "          let quickchartButtonEl =\n",
              "            document.querySelector('#df-089a33ed-6805-41b5-be7f-956166647862 button');\n",
              "          quickchartButtonEl.style.display =\n",
              "            google.colab.kernel.accessAllowed ? 'block' : 'none';\n",
              "        })();\n",
              "      </script>\n",
              "    </div>\n",
              "\n",
              "    </div>\n",
              "  </div>\n"
            ],
            "application/vnd.google.colaboratory.intrinsic+json": {
              "type": "dataframe",
              "variable_name": "df",
              "summary": "{\n  \"name\": \"df\",\n  \"rows\": 398,\n  \"fields\": [\n    {\n      \"column\": \"mpg\",\n      \"properties\": {\n        \"dtype\": \"number\",\n        \"std\": 7.815984312565782,\n        \"min\": 9.0,\n        \"max\": 46.6,\n        \"num_unique_values\": 129,\n        \"samples\": [\n          17.7,\n          30.5,\n          30.0\n        ],\n        \"semantic_type\": \"\",\n        \"description\": \"\"\n      }\n    },\n    {\n      \"column\": \"cylinders\",\n      \"properties\": {\n        \"dtype\": \"number\",\n        \"std\": 1,\n        \"min\": 3,\n        \"max\": 8,\n        \"num_unique_values\": 5,\n        \"samples\": [\n          4,\n          5,\n          6\n        ],\n        \"semantic_type\": \"\",\n        \"description\": \"\"\n      }\n    },\n    {\n      \"column\": \"displacement\",\n      \"properties\": {\n        \"dtype\": \"number\",\n        \"std\": 104.26983817119581,\n        \"min\": 68.0,\n        \"max\": 455.0,\n        \"num_unique_values\": 82,\n        \"samples\": [\n          122.0,\n          307.0,\n          360.0\n        ],\n        \"semantic_type\": \"\",\n        \"description\": \"\"\n      }\n    },\n    {\n      \"column\": \"horsepower\",\n      \"properties\": {\n        \"dtype\": \"number\",\n        \"std\": 38.49115993282855,\n        \"min\": 46.0,\n        \"max\": 230.0,\n        \"num_unique_values\": 93,\n        \"samples\": [\n          92.0,\n          100.0,\n          52.0\n        ],\n        \"semantic_type\": \"\",\n        \"description\": \"\"\n      }\n    },\n    {\n      \"column\": \"weight\",\n      \"properties\": {\n        \"dtype\": \"number\",\n        \"std\": 846.8417741973271,\n        \"min\": 1613.0,\n        \"max\": 5140.0,\n        \"num_unique_values\": 351,\n        \"samples\": [\n          3730.0,\n          1995.0,\n          2215.0\n        ],\n        \"semantic_type\": \"\",\n        \"description\": \"\"\n      }\n    },\n    {\n      \"column\": \"acceleration\",\n      \"properties\": {\n        \"dtype\": \"number\",\n        \"std\": 2.7576889298126757,\n        \"min\": 8.0,\n        \"max\": 24.8,\n        \"num_unique_values\": 95,\n        \"samples\": [\n          14.7,\n          18.0,\n          14.3\n        ],\n        \"semantic_type\": \"\",\n        \"description\": \"\"\n      }\n    },\n    {\n      \"column\": \"model year\",\n      \"properties\": {\n        \"dtype\": \"number\",\n        \"std\": 3,\n        \"min\": 70,\n        \"max\": 82,\n        \"num_unique_values\": 13,\n        \"samples\": [\n          81,\n          79,\n          70\n        ],\n        \"semantic_type\": \"\",\n        \"description\": \"\"\n      }\n    },\n    {\n      \"column\": \"origin\",\n      \"properties\": {\n        \"dtype\": \"number\",\n        \"std\": 0,\n        \"min\": 1,\n        \"max\": 3,\n        \"num_unique_values\": 3,\n        \"samples\": [\n          1,\n          3,\n          2\n        ],\n        \"semantic_type\": \"\",\n        \"description\": \"\"\n      }\n    },\n    {\n      \"column\": \"car name\",\n      \"properties\": {\n        \"dtype\": \"string\",\n        \"num_unique_values\": 305,\n        \"samples\": [\n          \"mazda rx-4\",\n          \"ford f108\",\n          \"buick century luxus (sw)\"\n        ],\n        \"semantic_type\": \"\",\n        \"description\": \"\"\n      }\n    }\n  ]\n}"
            }
          },
          "metadata": {},
          "execution_count": 7
        }
      ],
      "source": [
        "df.head(6)"
      ]
    },
    {
      "cell_type": "code",
      "execution_count": 8,
      "metadata": {
        "id": "tF0zTd8t1Ddw",
        "outputId": "a39def82-828c-462c-ca52-91d94670076b",
        "colab": {
          "base_uri": "https://localhost:8080/"
        }
      },
      "outputs": [
        {
          "output_type": "execute_result",
          "data": {
            "text/plain": [
              "Index(['mpg', 'cylinders', 'displacement', 'horsepower', 'weight',\n",
              "       'acceleration', 'model year', 'origin', 'car name'],\n",
              "      dtype='object')"
            ]
          },
          "metadata": {},
          "execution_count": 8
        }
      ],
      "source": [
        "df.columns"
      ]
    },
    {
      "cell_type": "markdown",
      "metadata": {
        "id": "1fgMKWag1Ddw"
      },
      "source": [
        "The field `df.index` returns the indices of the rows.  In this case, they are just enumerated 0,1,..."
      ]
    },
    {
      "cell_type": "code",
      "execution_count": 9,
      "metadata": {
        "id": "SZU95p4x1Ddw",
        "outputId": "5061ec2a-2552-4424-b07b-cadefa080fbd",
        "colab": {
          "base_uri": "https://localhost:8080/"
        }
      },
      "outputs": [
        {
          "output_type": "execute_result",
          "data": {
            "text/plain": [
              "RangeIndex(start=0, stop=398, step=1)"
            ]
          },
          "metadata": {},
          "execution_count": 9
        }
      ],
      "source": [
        "df.index"
      ]
    },
    {
      "cell_type": "markdown",
      "metadata": {
        "id": "0xtW7eBv1Ddw"
      },
      "source": [
        "Finally, `df.values` is a 2D array with values of the attributes for each car.  Note that the data can be *heterogeneous*:  Some entries are integers, some are floating point values and some are strings."
      ]
    },
    {
      "cell_type": "code",
      "execution_count": 10,
      "metadata": {
        "id": "Fgh2p08a1Ddw",
        "outputId": "5792f48a-0a8c-4ac7-9d5d-debcd1e55a31",
        "colab": {
          "base_uri": "https://localhost:8080/"
        }
      },
      "outputs": [
        {
          "output_type": "execute_result",
          "data": {
            "text/plain": [
              "array([[18.0, 8, 307.0, ..., 70, 1, 'chevrolet chevelle malibu'],\n",
              "       [15.0, 8, 350.0, ..., 70, 1, 'buick skylark 320'],\n",
              "       [18.0, 8, 318.0, ..., 70, 1, 'plymouth satellite'],\n",
              "       ...,\n",
              "       [32.0, 4, 135.0, ..., 82, 1, 'dodge rampage'],\n",
              "       [28.0, 4, 120.0, ..., 82, 1, 'ford ranger'],\n",
              "       [31.0, 4, 119.0, ..., 82, 1, 'chevy s-10']], dtype=object)"
            ]
          },
          "metadata": {},
          "execution_count": 10
        }
      ],
      "source": [
        "df.values"
      ]
    },
    {
      "cell_type": "markdown",
      "metadata": {
        "id": "QY_E8Juz1Ddw"
      },
      "source": [
        "The `df.columns` attribute is not a python list, but a `pandas`-specific data structure called an `Index`.  To convert to a list, use the `tolist()` method:"
      ]
    },
    {
      "cell_type": "code",
      "execution_count": 11,
      "metadata": {
        "id": "V1ejJD0_1Ddw",
        "outputId": "aebb591f-17a6-41f1-d545-a6be48401e4e",
        "colab": {
          "base_uri": "https://localhost:8080/"
        }
      },
      "outputs": [
        {
          "output_type": "execute_result",
          "data": {
            "text/plain": [
              "['mpg',\n",
              " 'cylinders',\n",
              " 'displacement',\n",
              " 'horsepower',\n",
              " 'weight',\n",
              " 'acceleration',\n",
              " 'model year',\n",
              " 'origin',\n",
              " 'car name']"
            ]
          },
          "metadata": {},
          "execution_count": 11
        }
      ],
      "source": [
        "df.columns.tolist()"
      ]
    },
    {
      "cell_type": "markdown",
      "metadata": {
        "id": "gEJf-Q3M1Ddw"
      },
      "source": [
        "You can select subsets of the attributes with indexing.  For example, this selects one attribute, which returns what is called a pandas `Series`"
      ]
    },
    {
      "cell_type": "code",
      "execution_count": 12,
      "metadata": {
        "id": "5lMFAukS1Ddw",
        "outputId": "20746303-2043-4525-f768-ad179ea6dacf",
        "colab": {
          "base_uri": "https://localhost:8080/",
          "height": 269
        }
      },
      "outputs": [
        {
          "output_type": "execute_result",
          "data": {
            "text/plain": [
              "0    8\n",
              "1    8\n",
              "2    8\n",
              "3    8\n",
              "4    8\n",
              "5    8\n",
              "Name: cylinders, dtype: int64"
            ],
            "text/html": [
              "<div>\n",
              "<style scoped>\n",
              "    .dataframe tbody tr th:only-of-type {\n",
              "        vertical-align: middle;\n",
              "    }\n",
              "\n",
              "    .dataframe tbody tr th {\n",
              "        vertical-align: top;\n",
              "    }\n",
              "\n",
              "    .dataframe thead th {\n",
              "        text-align: right;\n",
              "    }\n",
              "</style>\n",
              "<table border=\"1\" class=\"dataframe\">\n",
              "  <thead>\n",
              "    <tr style=\"text-align: right;\">\n",
              "      <th></th>\n",
              "      <th>cylinders</th>\n",
              "    </tr>\n",
              "  </thead>\n",
              "  <tbody>\n",
              "    <tr>\n",
              "      <th>0</th>\n",
              "      <td>8</td>\n",
              "    </tr>\n",
              "    <tr>\n",
              "      <th>1</th>\n",
              "      <td>8</td>\n",
              "    </tr>\n",
              "    <tr>\n",
              "      <th>2</th>\n",
              "      <td>8</td>\n",
              "    </tr>\n",
              "    <tr>\n",
              "      <th>3</th>\n",
              "      <td>8</td>\n",
              "    </tr>\n",
              "    <tr>\n",
              "      <th>4</th>\n",
              "      <td>8</td>\n",
              "    </tr>\n",
              "    <tr>\n",
              "      <th>5</th>\n",
              "      <td>8</td>\n",
              "    </tr>\n",
              "  </tbody>\n",
              "</table>\n",
              "</div><br><label><b>dtype:</b> int64</label>"
            ]
          },
          "metadata": {},
          "execution_count": 12
        }
      ],
      "source": [
        "df2 = df['cylinders']\n",
        "df2.head(6)"
      ]
    },
    {
      "cell_type": "code",
      "execution_count": 13,
      "metadata": {
        "id": "0JknfYbD1Ddx",
        "outputId": "c799132d-8310-4d3a-85c0-64908e6ec944",
        "colab": {
          "base_uri": "https://localhost:8080/",
          "height": 235
        }
      },
      "outputs": [
        {
          "output_type": "execute_result",
          "data": {
            "text/plain": [
              "   cylinders  horsepower\n",
              "0          8       130.0\n",
              "1          8       165.0\n",
              "2          8       150.0\n",
              "3          8       150.0\n",
              "4          8       140.0\n",
              "5          8       198.0"
            ],
            "text/html": [
              "\n",
              "  <div id=\"df-b5871a97-0711-4672-8739-147c86b036f2\" class=\"colab-df-container\">\n",
              "    <div>\n",
              "<style scoped>\n",
              "    .dataframe tbody tr th:only-of-type {\n",
              "        vertical-align: middle;\n",
              "    }\n",
              "\n",
              "    .dataframe tbody tr th {\n",
              "        vertical-align: top;\n",
              "    }\n",
              "\n",
              "    .dataframe thead th {\n",
              "        text-align: right;\n",
              "    }\n",
              "</style>\n",
              "<table border=\"1\" class=\"dataframe\">\n",
              "  <thead>\n",
              "    <tr style=\"text-align: right;\">\n",
              "      <th></th>\n",
              "      <th>cylinders</th>\n",
              "      <th>horsepower</th>\n",
              "    </tr>\n",
              "  </thead>\n",
              "  <tbody>\n",
              "    <tr>\n",
              "      <th>0</th>\n",
              "      <td>8</td>\n",
              "      <td>130.0</td>\n",
              "    </tr>\n",
              "    <tr>\n",
              "      <th>1</th>\n",
              "      <td>8</td>\n",
              "      <td>165.0</td>\n",
              "    </tr>\n",
              "    <tr>\n",
              "      <th>2</th>\n",
              "      <td>8</td>\n",
              "      <td>150.0</td>\n",
              "    </tr>\n",
              "    <tr>\n",
              "      <th>3</th>\n",
              "      <td>8</td>\n",
              "      <td>150.0</td>\n",
              "    </tr>\n",
              "    <tr>\n",
              "      <th>4</th>\n",
              "      <td>8</td>\n",
              "      <td>140.0</td>\n",
              "    </tr>\n",
              "    <tr>\n",
              "      <th>5</th>\n",
              "      <td>8</td>\n",
              "      <td>198.0</td>\n",
              "    </tr>\n",
              "  </tbody>\n",
              "</table>\n",
              "</div>\n",
              "    <div class=\"colab-df-buttons\">\n",
              "\n",
              "  <div class=\"colab-df-container\">\n",
              "    <button class=\"colab-df-convert\" onclick=\"convertToInteractive('df-b5871a97-0711-4672-8739-147c86b036f2')\"\n",
              "            title=\"Convert this dataframe to an interactive table.\"\n",
              "            style=\"display:none;\">\n",
              "\n",
              "  <svg xmlns=\"http://www.w3.org/2000/svg\" height=\"24px\" viewBox=\"0 -960 960 960\">\n",
              "    <path d=\"M120-120v-720h720v720H120Zm60-500h600v-160H180v160Zm220 220h160v-160H400v160Zm0 220h160v-160H400v160ZM180-400h160v-160H180v160Zm440 0h160v-160H620v160ZM180-180h160v-160H180v160Zm440 0h160v-160H620v160Z\"/>\n",
              "  </svg>\n",
              "    </button>\n",
              "\n",
              "  <style>\n",
              "    .colab-df-container {\n",
              "      display:flex;\n",
              "      gap: 12px;\n",
              "    }\n",
              "\n",
              "    .colab-df-convert {\n",
              "      background-color: #E8F0FE;\n",
              "      border: none;\n",
              "      border-radius: 50%;\n",
              "      cursor: pointer;\n",
              "      display: none;\n",
              "      fill: #1967D2;\n",
              "      height: 32px;\n",
              "      padding: 0 0 0 0;\n",
              "      width: 32px;\n",
              "    }\n",
              "\n",
              "    .colab-df-convert:hover {\n",
              "      background-color: #E2EBFA;\n",
              "      box-shadow: 0px 1px 2px rgba(60, 64, 67, 0.3), 0px 1px 3px 1px rgba(60, 64, 67, 0.15);\n",
              "      fill: #174EA6;\n",
              "    }\n",
              "\n",
              "    .colab-df-buttons div {\n",
              "      margin-bottom: 4px;\n",
              "    }\n",
              "\n",
              "    [theme=dark] .colab-df-convert {\n",
              "      background-color: #3B4455;\n",
              "      fill: #D2E3FC;\n",
              "    }\n",
              "\n",
              "    [theme=dark] .colab-df-convert:hover {\n",
              "      background-color: #434B5C;\n",
              "      box-shadow: 0px 1px 3px 1px rgba(0, 0, 0, 0.15);\n",
              "      filter: drop-shadow(0px 1px 2px rgba(0, 0, 0, 0.3));\n",
              "      fill: #FFFFFF;\n",
              "    }\n",
              "  </style>\n",
              "\n",
              "    <script>\n",
              "      const buttonEl =\n",
              "        document.querySelector('#df-b5871a97-0711-4672-8739-147c86b036f2 button.colab-df-convert');\n",
              "      buttonEl.style.display =\n",
              "        google.colab.kernel.accessAllowed ? 'block' : 'none';\n",
              "\n",
              "      async function convertToInteractive(key) {\n",
              "        const element = document.querySelector('#df-b5871a97-0711-4672-8739-147c86b036f2');\n",
              "        const dataTable =\n",
              "          await google.colab.kernel.invokeFunction('convertToInteractive',\n",
              "                                                    [key], {});\n",
              "        if (!dataTable) return;\n",
              "\n",
              "        const docLinkHtml = 'Like what you see? Visit the ' +\n",
              "          '<a target=\"_blank\" href=https://colab.research.google.com/notebooks/data_table.ipynb>data table notebook</a>'\n",
              "          + ' to learn more about interactive tables.';\n",
              "        element.innerHTML = '';\n",
              "        dataTable['output_type'] = 'display_data';\n",
              "        await google.colab.output.renderOutput(dataTable, element);\n",
              "        const docLink = document.createElement('div');\n",
              "        docLink.innerHTML = docLinkHtml;\n",
              "        element.appendChild(docLink);\n",
              "      }\n",
              "    </script>\n",
              "  </div>\n",
              "\n",
              "\n",
              "    <div id=\"df-5d038362-3c20-42b7-b1d0-bab54d29f16d\">\n",
              "      <button class=\"colab-df-quickchart\" onclick=\"quickchart('df-5d038362-3c20-42b7-b1d0-bab54d29f16d')\"\n",
              "                title=\"Suggest charts\"\n",
              "                style=\"display:none;\">\n",
              "\n",
              "<svg xmlns=\"http://www.w3.org/2000/svg\" height=\"24px\"viewBox=\"0 0 24 24\"\n",
              "     width=\"24px\">\n",
              "    <g>\n",
              "        <path d=\"M19 3H5c-1.1 0-2 .9-2 2v14c0 1.1.9 2 2 2h14c1.1 0 2-.9 2-2V5c0-1.1-.9-2-2-2zM9 17H7v-7h2v7zm4 0h-2V7h2v10zm4 0h-2v-4h2v4z\"/>\n",
              "    </g>\n",
              "</svg>\n",
              "      </button>\n",
              "\n",
              "<style>\n",
              "  .colab-df-quickchart {\n",
              "      --bg-color: #E8F0FE;\n",
              "      --fill-color: #1967D2;\n",
              "      --hover-bg-color: #E2EBFA;\n",
              "      --hover-fill-color: #174EA6;\n",
              "      --disabled-fill-color: #AAA;\n",
              "      --disabled-bg-color: #DDD;\n",
              "  }\n",
              "\n",
              "  [theme=dark] .colab-df-quickchart {\n",
              "      --bg-color: #3B4455;\n",
              "      --fill-color: #D2E3FC;\n",
              "      --hover-bg-color: #434B5C;\n",
              "      --hover-fill-color: #FFFFFF;\n",
              "      --disabled-bg-color: #3B4455;\n",
              "      --disabled-fill-color: #666;\n",
              "  }\n",
              "\n",
              "  .colab-df-quickchart {\n",
              "    background-color: var(--bg-color);\n",
              "    border: none;\n",
              "    border-radius: 50%;\n",
              "    cursor: pointer;\n",
              "    display: none;\n",
              "    fill: var(--fill-color);\n",
              "    height: 32px;\n",
              "    padding: 0;\n",
              "    width: 32px;\n",
              "  }\n",
              "\n",
              "  .colab-df-quickchart:hover {\n",
              "    background-color: var(--hover-bg-color);\n",
              "    box-shadow: 0 1px 2px rgba(60, 64, 67, 0.3), 0 1px 3px 1px rgba(60, 64, 67, 0.15);\n",
              "    fill: var(--button-hover-fill-color);\n",
              "  }\n",
              "\n",
              "  .colab-df-quickchart-complete:disabled,\n",
              "  .colab-df-quickchart-complete:disabled:hover {\n",
              "    background-color: var(--disabled-bg-color);\n",
              "    fill: var(--disabled-fill-color);\n",
              "    box-shadow: none;\n",
              "  }\n",
              "\n",
              "  .colab-df-spinner {\n",
              "    border: 2px solid var(--fill-color);\n",
              "    border-color: transparent;\n",
              "    border-bottom-color: var(--fill-color);\n",
              "    animation:\n",
              "      spin 1s steps(1) infinite;\n",
              "  }\n",
              "\n",
              "  @keyframes spin {\n",
              "    0% {\n",
              "      border-color: transparent;\n",
              "      border-bottom-color: var(--fill-color);\n",
              "      border-left-color: var(--fill-color);\n",
              "    }\n",
              "    20% {\n",
              "      border-color: transparent;\n",
              "      border-left-color: var(--fill-color);\n",
              "      border-top-color: var(--fill-color);\n",
              "    }\n",
              "    30% {\n",
              "      border-color: transparent;\n",
              "      border-left-color: var(--fill-color);\n",
              "      border-top-color: var(--fill-color);\n",
              "      border-right-color: var(--fill-color);\n",
              "    }\n",
              "    40% {\n",
              "      border-color: transparent;\n",
              "      border-right-color: var(--fill-color);\n",
              "      border-top-color: var(--fill-color);\n",
              "    }\n",
              "    60% {\n",
              "      border-color: transparent;\n",
              "      border-right-color: var(--fill-color);\n",
              "    }\n",
              "    80% {\n",
              "      border-color: transparent;\n",
              "      border-right-color: var(--fill-color);\n",
              "      border-bottom-color: var(--fill-color);\n",
              "    }\n",
              "    90% {\n",
              "      border-color: transparent;\n",
              "      border-bottom-color: var(--fill-color);\n",
              "    }\n",
              "  }\n",
              "</style>\n",
              "\n",
              "      <script>\n",
              "        async function quickchart(key) {\n",
              "          const quickchartButtonEl =\n",
              "            document.querySelector('#' + key + ' button');\n",
              "          quickchartButtonEl.disabled = true;  // To prevent multiple clicks.\n",
              "          quickchartButtonEl.classList.add('colab-df-spinner');\n",
              "          try {\n",
              "            const charts = await google.colab.kernel.invokeFunction(\n",
              "                'suggestCharts', [key], {});\n",
              "          } catch (error) {\n",
              "            console.error('Error during call to suggestCharts:', error);\n",
              "          }\n",
              "          quickchartButtonEl.classList.remove('colab-df-spinner');\n",
              "          quickchartButtonEl.classList.add('colab-df-quickchart-complete');\n",
              "        }\n",
              "        (() => {\n",
              "          let quickchartButtonEl =\n",
              "            document.querySelector('#df-5d038362-3c20-42b7-b1d0-bab54d29f16d button');\n",
              "          quickchartButtonEl.style.display =\n",
              "            google.colab.kernel.accessAllowed ? 'block' : 'none';\n",
              "        })();\n",
              "      </script>\n",
              "    </div>\n",
              "\n",
              "    </div>\n",
              "  </div>\n"
            ],
            "application/vnd.google.colaboratory.intrinsic+json": {
              "type": "dataframe",
              "variable_name": "df2",
              "summary": "{\n  \"name\": \"df2\",\n  \"rows\": 398,\n  \"fields\": [\n    {\n      \"column\": \"cylinders\",\n      \"properties\": {\n        \"dtype\": \"number\",\n        \"std\": 1,\n        \"min\": 3,\n        \"max\": 8,\n        \"num_unique_values\": 5,\n        \"samples\": [\n          4,\n          5,\n          6\n        ],\n        \"semantic_type\": \"\",\n        \"description\": \"\"\n      }\n    },\n    {\n      \"column\": \"horsepower\",\n      \"properties\": {\n        \"dtype\": \"number\",\n        \"std\": 38.49115993282855,\n        \"min\": 46.0,\n        \"max\": 230.0,\n        \"num_unique_values\": 93,\n        \"samples\": [\n          92.0,\n          100.0,\n          52.0\n        ],\n        \"semantic_type\": \"\",\n        \"description\": \"\"\n      }\n    }\n  ]\n}"
            }
          },
          "metadata": {},
          "execution_count": 13
        }
      ],
      "source": [
        "df2 = df[['cylinders','horsepower']]\n",
        "df2.head(6)"
      ]
    },
    {
      "cell_type": "markdown",
      "metadata": {
        "id": "37Dw_3YJ1Ddx"
      },
      "source": [
        "## Plotting the Data\n",
        "We load the `matplotlib` module to plot the data.  This module has excellent plotting routines that are very similar to those in MATLAB"
      ]
    },
    {
      "cell_type": "code",
      "execution_count": 14,
      "metadata": {
        "id": "Od9uD5LH1Ddx"
      },
      "outputs": [],
      "source": [
        "import matplotlib\n",
        "import matplotlib.pyplot as plt"
      ]
    },
    {
      "cell_type": "markdown",
      "metadata": {
        "id": "ivEPcQP01Ddx"
      },
      "source": [
        "First, we need to convert the dataframes to numpy arrays:"
      ]
    },
    {
      "cell_type": "code",
      "execution_count": 15,
      "metadata": {
        "id": "p1Cl1MSh1Ddx"
      },
      "outputs": [],
      "source": [
        "xstr = 'displacement'\n",
        "x = np.array(df[xstr])\n",
        "y = np.array(df['mpg'])"
      ]
    },
    {
      "cell_type": "markdown",
      "metadata": {
        "id": "beC-UNgE1Ddx"
      },
      "source": [
        "Then, we can create a scatter plot"
      ]
    },
    {
      "cell_type": "code",
      "execution_count": 16,
      "metadata": {
        "id": "10dlvHgm1Ddx",
        "outputId": "1eeb3513-7999-4f86-b0b4-6b7f31db0f1a",
        "colab": {
          "base_uri": "https://localhost:8080/",
          "height": 449
        }
      },
      "outputs": [
        {
          "output_type": "display_data",
          "data": {
            "text/plain": [
              "<Figure size 640x480 with 1 Axes>"
            ],
            "image/png": "[encoded data removed]"
          },
          "metadata": {}
        }
      ],
      "source": [
        "plt.plot(x,y,'o')\n",
        "plt.xlabel(xstr)\n",
        "plt.ylabel('mpg')\n",
        "plt.grid(True)"
      ]
    },
    {
      "cell_type": "markdown",
      "metadata": {
        "id": "AmYh7iwg1Ddx"
      },
      "source": [
        "## Manipulating Numpy arrays\n",
        "\n",
        "Once the data is converted to a numpy array, we can perform many useful simple calculations.  For example, we can compute the sample mean:"
      ]
    },
    {
      "cell_type": "code",
      "execution_count": 17,
      "metadata": {
        "id": "Jxqktr911Ddx",
        "outputId": "90423725-ceae-46e8-af17-cb8d59bc257a",
        "colab": {
          "base_uri": "https://localhost:8080/"
        }
      },
      "outputs": [
        {
          "output_type": "stream",
          "name": "stdout",
          "text": [
            "Mean displacement = 193.4, mean mpg=  23.5\n"
          ]
        }
      ],
      "source": [
        "mx = np.mean(x)\n",
        "my = np.mean(y)\n",
        "print('Mean {0:s} = {1:5.1f}, mean mpg= {2:5.1f}'.format(xstr, mx, my))\n",
        "\n",
        "#使用 format() 方法对输出内容进行格式化\n",
        "#{0:s} 表示插入第一个参数 xstr（字符串类型）\n",
        "#{1:5.1f} 表示插入第二个参数 mx（浮点数类型，总宽度 5 位，保留 1 位小数）\n",
        "#{2:5.1f} 表示插入第三个参数 my（同样是浮点数，格式与 mx 相同）"
      ]
    },
    {
      "cell_type": "markdown",
      "metadata": {
        "id": "VTDTucyz1Ddy"
      },
      "source": [
        "Fraction of cars with > 25 mpg:"
      ]
    },
    {
      "cell_type": "markdown",
      "metadata": {
        "id": "eWVwRTI11Ddy"
      },
      "source": [
        "Then, we can repeat the `read_csv` command with the correct options."
      ]
    },
    {
      "cell_type": "code",
      "execution_count": 18,
      "metadata": {
        "id": "YEQQ-ns31Ddy",
        "outputId": "0cf391a4-0f36-40a6-e52b-a16af3b89f8e",
        "colab": {
          "base_uri": "https://localhost:8080/"
        }
      },
      "outputs": [
        {
          "output_type": "execute_result",
          "data": {
            "text/plain": [
              "np.float64(0.3969849246231156)"
            ]
          },
          "metadata": {},
          "execution_count": 18
        }
      ],
      "source": [
        "np.mean(y > 25)"
      ]
    },
    {
      "cell_type": "markdown",
      "metadata": {
        "id": "Cg1CMnOm1Ddy"
      },
      "source": [
        "Sample mean displacement for the cars that have mpg > 25"
      ]
    },
    {
      "cell_type": "code",
      "execution_count": 19,
      "metadata": {
        "id": "HKzYyIz61Ddy",
        "outputId": "3aefe9c0-e63e-4f26-b498-7e2c6ed2b1ef",
        "colab": {
          "base_uri": "https://localhost:8080/"
        }
      },
      "outputs": [
        {
          "output_type": "execute_result",
          "data": {
            "text/plain": [
              "np.float64(110.08227848101266)"
            ]
          },
          "metadata": {},
          "execution_count": 19
        }
      ],
      "source": [
        "I = (y>25)\n",
        "np.mean(x*I)/np.mean(I)\n",
        "#数组 x 与布尔数组 I 逐元素相乘（NumPy 广播机制，确保 x 与 I 长度一致）。\n",
        "#对 x 中 “对应 I 为 1（即 y>25）” 的元素：保留原数值（如 x[i] * 1 = x[i]）；\n",
        "#对 x 中 “对应 I 为 0（即 y≤25）” 的元素：结果变为 0（如 x[i] * 0 = 0）。\n",
        "#np.mean(...) 作用：计算上述乘积结果的 “平均值”—— 但由于不满足条件的元素已被置为 0，实际等效于 “满足 y>25 的 x 元素之和” 除以 “x 的总长度”。\n",
        "#（2）分母 np.mean(I)\n",
        "#运算逻辑：计算布尔数组 I 的平均值。由于 I 中 True=1、False=0，平均值本质是 “满足 y>25 的元素个数” 除以 “y 的总长度”（与 x 总长度一致，因 x*I 需匹配）。\n",
        "#（3）整体比值的意义\n"
      ]
    },
    {
      "cell_type": "markdown",
      "metadata": {
        "id": "vrYIawGo1Ddy"
      },
      "source": [
        "You can also do the previous command with [boolean indexing](https://docs.scipy.org/doc/numpy-1.13.0/user/basics.indexing.html)."
      ]
    },
    {
      "cell_type": "code",
      "source": [
        "#import pandas as pd\n",
        "\n",
        "# 创建示例数据\n",
        "data = {\n",
        "    '姓名': ['张三', '李四', '王五', '赵六', '钱七'],\n",
        "    '年龄': [17, 18, 16, 19, 17],\n",
        "    '数学成绩': [85, 78, 92, 88, 76],\n",
        "    '语文成绩': [76, 90, 82, 79, 88]\n",
        "}\n",
        "\n",
        "df = pd.DataFrame(data)\n",
        "\n",
        "# 使用布尔索引筛选数据\n",
        "# 条件1：数学成绩 > 80\n",
        "condition1 = df['数学成绩'] > 80\n",
        "# 条件2：年龄 < 18\n",
        "condition2 = df['年龄'] < 18\n",
        "\n",
        "# 组合条件（两个条件都要满足）\n",
        "filtered_df = df[condition1 & condition2]\n",
        "\n",
        "print(\"原始数据:\")\n",
        "print(df)\n",
        "print(\"\\n筛选后的数据（数学成绩>80且年龄<18）:\")\n",
        "print(filtered_df)"
      ],
      "metadata": {
        "id": "ZxQHEaMU9MNy"
      },
      "execution_count": null,
      "outputs": []
    },
    {
      "cell_type": "code",
      "execution_count": 20,
      "metadata": {
        "id": "sAZHrulz1Ddz",
        "outputId": "aa9aab18-9a70-4aaa-ec56-c283e64e0c64",
        "colab": {
          "base_uri": "https://localhost:8080/"
        }
      },
      "outputs": [
        {
          "output_type": "execute_result",
          "data": {
            "text/plain": [
              "np.float64(110.08227848101266)"
            ]
          },
          "metadata": {},
          "execution_count": 20
        }
      ],
      "source": [
        "np.mean(x[I])"
      ]
    },
    {
      "cell_type": "markdown",
      "metadata": {
        "id": "ZogFqA_s1Ddz"
      },
      "source": [
        "**In-Class Problem**:  Using the techniques above to:\n",
        "* Load the acceleration variables in `df['acceleration']`  to a `np.array` called `acc`.\n",
        "* Create a scatter plot of `mpg` vs. `acc`.\n",
        "* Add grid lines to your plot and label the axes with the `plt.xlabel` and `plt.ylabel` functions.\n",
        "\n",
        "Note that the acceleration here is the time from going to 0 to 60 mph, so a higher number is a *lower* acceleration.  That is, `acc` is really inverse acceleration."
      ]
    },
    {
      "cell_type": "code",
      "execution_count": 47,
      "metadata": {
        "id": "tjAjcT4v1Ddz",
        "outputId": "76fa6299-a6bb-4b76-a3cc-357c3e9c1c3d",
        "colab": {
          "base_uri": "https://localhost:8080/",
          "height": 449
        }
      },
      "outputs": [
        {
          "output_type": "display_data",
          "data": {
            "text/plain": [
              "<Figure size 640x480 with 1 Axes>"
            ],
            "image/png": "[encoded data removed]"
          },
          "metadata": {}
        }
      ],
      "source": [
        "# TODO:\n",
        "#  acc = ...\n",
        "#  pl.plot(...)\n",
        "df_clean = df[['mpg', 'acceleration']].dropna()\n",
        "acc = df_clean['acceleration'].values\n",
        "mpg = df_clean['mpg'].values\n",
        "plt.plot(acc,mpg,'o')\n",
        "plt.xlabel('acceleration')\n",
        "plt.ylabel('mpg')\n",
        "plt.grid(True)"
      ]
    },
    {
      "cell_type": "markdown",
      "metadata": {
        "id": "atWPbcno1Ddz"
      },
      "source": [
        "**In-class Problem**:  Find the average mpg of cars that have `acc > 15`.  Print your result."
      ]
    },
    {
      "cell_type": "code",
      "execution_count": 48,
      "metadata": {
        "id": "asVfbfz31Ddz",
        "outputId": "88f9dce5-dde8-4f6c-8b4e-ab90af216573",
        "colab": {
          "base_uri": "https://localhost:8080/"
        }
      },
      "outputs": [
        {
          "output_type": "execute_result",
          "data": {
            "text/plain": [
              "np.float64(25.850230414746544)"
            ]
          },
          "metadata": {},
          "execution_count": 48
        }
      ],
      "source": [
        "# TODO:\n",
        "Y = (acc>15)\n",
        "np.mean(mpg[Y])"
      ]
    },
    {
      "cell_type": "markdown",
      "metadata": {
        "id": "Dtjl1NwW1Ddz"
      },
      "source": [
        "## Plotting Functions\n",
        "\n",
        "The `matplotlib.pyplot` package combined with `numpy` has very powerful tools for creating plots.  For example, suppose we wish to plot `f1(t) = exp(-0.2*t)` vs. `t`.  For those familiar with MATLAB, the syntax is very similar."
      ]
    },
    {
      "cell_type": "code",
      "execution_count": 23,
      "metadata": {
        "id": "Hf82anxN1Ddz",
        "outputId": "8ce3e46a-0d5f-44d8-97eb-f15c8a58dd26",
        "colab": {
          "base_uri": "https://localhost:8080/",
          "height": 430
        }
      },
      "outputs": [
        {
          "output_type": "display_data",
          "data": {
            "text/plain": [
              "<Figure size 640x480 with 1 Axes>"
            ],
            "image/png": "[encoded data removed]"
          },
          "metadata": {}
        }
      ],
      "source": [
        "t = np.linspace(0,10,100)  # 100 points linearly spaced from 0 to 5\n",
        "f1 = np.exp(-0.2*t)\n",
        "plt.plot(t,f1,lw=2)  # lw=2 makes a little thicker line.  easier to read\n",
        "plt.grid()"
      ]
    },
    {
      "cell_type": "markdown",
      "metadata": {
        "id": "BQqRSiRT1Ddz"
      },
      "source": [
        "We can also super-impose plots:"
      ]
    },
    {
      "cell_type": "code",
      "execution_count": 24,
      "metadata": {
        "id": "ALB_R2HZ1Ddz",
        "outputId": "e8229dac-ca9a-4e89-e718-eacc773cadac",
        "colab": {
          "base_uri": "https://localhost:8080/",
          "height": 447
        }
      },
      "outputs": [
        {
          "output_type": "execute_result",
          "data": {
            "text/plain": [
              "<matplotlib.legend.Legend at 0x7d878b355370>"
            ]
          },
          "metadata": {},
          "execution_count": 24
        },
        {
          "output_type": "display_data",
          "data": {
            "text/plain": [
              "<Figure size 640x480 with 1 Axes>"
            ],
            "image/png": "[encoded data removed]"
          },
          "metadata": {}
        }
      ],
      "source": [
        "f2 = 1/(1+t)\n",
        "plt.plot(t,f1,lw=2)\n",
        "plt.plot(t,f2,lw=2)\n",
        "plt.grid()\n",
        "plt.xlim([0,10])\n",
        "plt.legend(['f1(t)=exp(-0.2*t)', 'f2(t)=1/(1+t)'])"
      ]
    },
    {
      "cell_type": "markdown",
      "metadata": {
        "id": "pG711ELM1Ddz"
      },
      "source": [
        "## Missing Data and NaN Values"
      ]
    },
    {
      "cell_type": "markdown",
      "metadata": {
        "id": "SDWysIvI1Ddz"
      },
      "source": [
        "Now, try a different field, horsepower"
      ]
    },
    {
      "cell_type": "code",
      "execution_count": 25,
      "metadata": {
        "id": "iFJMNw-P1Ddz",
        "outputId": "d5c360b1-95ff-4456-abf0-d61b8bf2f42d",
        "colab": {
          "base_uri": "https://localhost:8080/"
        }
      },
      "outputs": [
        {
          "output_type": "execute_result",
          "data": {
            "text/plain": [
              "np.float64(nan)"
            ]
          },
          "metadata": {},
          "execution_count": 25
        }
      ],
      "source": [
        "xstr = 'horsepower'\n",
        "x = np.array(df[xstr])\n",
        "y = np.array(df['mpg'])\n",
        "np.mean(x)"
      ]
    },
    {
      "cell_type": "markdown",
      "metadata": {
        "id": "BTg51-eN1Ddz"
      },
      "source": [
        "When you get the mean, it gives `nan` which means not a number.  The reason is that there was missing data in the orginal file and the `load_csv` function put `nan` values in the places where the data was missing.  This is very common.  To remove the rows with the missing data, we can use the `dropna` method:"
      ]
    },
    {
      "cell_type": "code",
      "execution_count": 26,
      "metadata": {
        "id": "yhnKx0C91Ddz",
        "outputId": "95d86c0f-8f52-4f18-f3d4-b5cfac78f513",
        "colab": {
          "base_uri": "https://localhost:8080/"
        }
      },
      "outputs": [
        {
          "output_type": "execute_result",
          "data": {
            "text/plain": [
              "(392, 2)"
            ]
          },
          "metadata": {},
          "execution_count": 26
        }
      ],
      "source": [
        "df1 = df[['mpg','horsepower']]\n",
        "df2 = df1.dropna()\n",
        "df2.shape"
      ]
    },
    {
      "cell_type": "markdown",
      "metadata": {
        "collapsed": true,
        "id": "jLKekbTB1Ddz"
      },
      "source": [
        "We can see that some of the rows have been dropped.  Specifically, the number of samples went from 396 to 392.  We can now compute the mean using the reduced dataframe."
      ]
    },
    {
      "cell_type": "code",
      "execution_count": 27,
      "metadata": {
        "id": "ChJHTSD41Ddz",
        "outputId": "0ab41392-a1d3-4aad-8bf5-a852cea91981",
        "colab": {
          "base_uri": "https://localhost:8080/"
        }
      },
      "outputs": [
        {
          "output_type": "execute_result",
          "data": {
            "text/plain": [
              "np.float64(104.46938775510205)"
            ]
          },
          "metadata": {},
          "execution_count": 27
        }
      ],
      "source": [
        "x = np.array(df2['horsepower'])\n",
        "y = np.array(df2['mpg'])\n",
        "np.mean(x)"
      ]
    },
    {
      "cell_type": "markdown",
      "metadata": {
        "id": "Iu4_cQZW1Ddz"
      },
      "source": [
        "And, we can plot the data."
      ]
    },
    {
      "cell_type": "code",
      "execution_count": 28,
      "metadata": {
        "id": "eihXAWO21Ddz",
        "outputId": "9a8eb94e-d9de-49e2-e6ae-aa2b271b3baf",
        "colab": {
          "base_uri": "https://localhost:8080/",
          "height": 449
        }
      },
      "outputs": [
        {
          "output_type": "display_data",
          "data": {
            "text/plain": [
              "<Figure size 640x480 with 1 Axes>"
            ],
            "image/png": "[encoded data removed]"
          },
          "metadata": {}
        }
      ],
      "source": [
        "plt.plot(x,y,'o')\n",
        "plt.xlabel(xstr)\n",
        "plt.ylabel('mpg')\n",
        "plt.grid(True)"
      ]
    },
    {
      "cell_type": "markdown",
      "metadata": {
        "id": "UMRDwzs31Ddz"
      },
      "source": [
        "## Guessing a Fit for the Data\n",
        "\n",
        "From the scatter plot above, you can see there is a relation between `y` vs. `x`.  Machine learning is about learning these relations.  We will discuss many ways to fit these relations automatically, but let us see first if you can guess a decent relation.\n",
        "\n",
        "**In-class exercise**:\n",
        "\n",
        "* Guess some relation `yhat = f(x)` where `yhat` is the predicted value of `y` given `x`.  So, `f(x)` should be some function that matches the data you see well.\n",
        "* To visualize the relation, create a vector `xp = np.linspace(20,250,100)` on which you will plot the values of your predicted function.\n",
        "* Compute `yhatp` on the values of `xp`.\n",
        "* On a single plot, plot the `yp` vs. `xp` as well as the scatter plot of `y` vs. `x`.\n",
        "\n",
        "Did you get a good fit?  "
      ]
    },
    {
      "cell_type": "code",
      "execution_count": 29,
      "metadata": {
        "id": "cXhKbCLO1Ddz"
      },
      "outputs": [],
      "source": [
        "# TODO:\n",
        "#  xp = np.linspace(20,250,100)\n",
        "#  yhatp = ...  # some function of xp\n",
        "#  plt.plot(...)\n"
      ]
    },
    {
      "cell_type": "markdown",
      "metadata": {
        "id": "pjq0ueaa1Ddz"
      },
      "source": [
        "## Splitting Data into Training and Test\n",
        "\n",
        "Now we will try to optimally *fit* a model to the data.  When doing this, we need to split the data into training and test, where we fit the model on the training data and evaluate it on the test data.  We will discuss this in detail in subsequent units, but the reason we need to do this is that we want to evaluate the fit on *new* data points, not in the test data.  \n",
        "\n",
        "To split the data, we take some fraction, say 0.5, for training and the other fraction for test."
      ]
    },
    {
      "cell_type": "code",
      "execution_count": 30,
      "metadata": {
        "id": "rh1FiVNg1Ddz",
        "outputId": "294213d9-4e7b-4300-c77d-a28bb356557c",
        "colab": {
          "base_uri": "https://localhost:8080/"
        }
      },
      "outputs": [
        {
          "output_type": "stream",
          "name": "stdout",
          "text": [
            "number of samples = 392\n",
            "number of training = 196\n",
            "number of test = 196\n"
          ]
        }
      ],
      "source": [
        "n = len(x)     # Total number of samples\n",
        "ntr = n // 2   # number of training samples\n",
        "nts = n - ntr   # number of test samples\n",
        "\n",
        "print('number of samples = %d' % n)\n",
        "print('number of training = %d' % ntr)\n",
        "print('number of test = %d' % nts)"
      ]
    },
    {
      "cell_type": "markdown",
      "metadata": {
        "id": "mnfNV0-k1Ddz"
      },
      "source": [
        "We then shuffle the samples and get the first `ntr` for training and the remaining for test."
      ]
    },
    {
      "cell_type": "code",
      "execution_count": 31,
      "metadata": {
        "id": "amg5INyr1Ddz"
      },
      "outputs": [],
      "source": [
        "I = np.random.permutation(n)\n",
        "\n",
        "# Training samples\n",
        "xtr = x[I[:ntr]]\n",
        "ytr = y[I[:ntr]]\n",
        "\n",
        "# Test\n",
        "xts = x[I[ntr:]]\n",
        "yts = y[I[ntr:]]"
      ]
    },
    {
      "cell_type": "markdown",
      "metadata": {
        "id": "plAoKhEH1Dd0"
      },
      "source": [
        "We can plot the training and test samples."
      ]
    },
    {
      "cell_type": "code",
      "execution_count": 32,
      "metadata": {
        "id": "m6lpew2K1Dd0",
        "outputId": "50649337-345c-4b2f-eff4-90d05f55441c",
        "colab": {
          "base_uri": "https://localhost:8080/",
          "height": 447
        }
      },
      "outputs": [
        {
          "output_type": "execute_result",
          "data": {
            "text/plain": [
              "<matplotlib.legend.Legend at 0x7d878906e4e0>"
            ]
          },
          "metadata": {},
          "execution_count": 32
        },
        {
          "output_type": "display_data",
          "data": {
            "text/plain": [
              "<Figure size 640x480 with 1 Axes>"
            ],
            "image/png": "[encoded data removed]"
          },
          "metadata": {}
        }
      ],
      "source": [
        "plt.plot(xtr,ytr,'o')\n",
        "plt.plot(xts,yts,'s')\n",
        "plt.grid()\n",
        "plt.legend(['Training', 'Test'])"
      ]
    },
    {
      "cell_type": "markdown",
      "metadata": {
        "id": "y1Hz2PR61Dd0"
      },
      "source": [
        "## Computing and Plotting a Linear Fit\n",
        "\n",
        "One simple and widely-used model is the linear fit, `yhat = beta0 + beta1*x` where:\n",
        "\n",
        "* `beta0` is called the *intercept* or *bias*\n",
        "* `beta1` is called the *slope* or or *weight*\n",
        "\n",
        "In class, we derive optimal formulae:\n",
        "\n",
        "    beta1 = syx / sxx,    beta0 = ym - beta1*xm\n",
        "    \n",
        "where `xm` and `ym` are the sample means and `syx` and `sxx` are the cross- and auto-covariances.  We find the parameters on the training data."
      ]
    },
    {
      "cell_type": "code",
      "execution_count": 33,
      "metadata": {
        "id": "1H9pzFqT1Dd0",
        "outputId": "6988e95d-8fa0-468d-f987-a56e545cc0c6",
        "colab": {
          "base_uri": "https://localhost:8080/"
        }
      },
      "outputs": [
        {
          "output_type": "stream",
          "name": "stdout",
          "text": [
            "xbar     = 106.94,       ybar=  23.16\n",
            "sqrt(sxx)=  40.75,  sqrt(syy)=   7.69\n",
            "beta0=  39.29, beta1=  -0.15\n"
          ]
        }
      ],
      "source": [
        "xm = np.mean(xtr)\n",
        "ym = np.mean(ytr)\n",
        "syy = np.mean((ytr-ym)**2)\n",
        "syx = np.mean((ytr-ym)*(xtr-xm))\n",
        "sxx = np.mean((xtr-xm)**2)\n",
        "beta1 = syx/sxx\n",
        "beta0 = ym - beta1*xm\n",
        "\n",
        "print(\"xbar     ={0:7.2f},       ybar={1:7.2f}\".format(xm,ym))\n",
        "print(\"sqrt(sxx)={0:7.2f},  sqrt(syy)={1:7.2f}\".format(np.sqrt(sxx),np.sqrt(syy)))\n",
        "print(\"beta0={0:7.2f}, beta1={1:7.2f}\".format(beta0,beta1))"
      ]
    },
    {
      "cell_type": "markdown",
      "metadata": {
        "id": "8bu-8QCr1Dd0"
      },
      "source": [
        "We can create a plot of the regression line on top of the scatter plot.  The vector `xplt` are the x-coordinates of the two endpoints of the line.  They are chosen so that the line fits nicely in the plot."
      ]
    },
    {
      "cell_type": "code",
      "execution_count": 34,
      "metadata": {
        "id": "8SgFj4Dl1Dd0",
        "outputId": "0afaea7e-e433-462d-b7f5-9bf64e3839c0",
        "colab": {
          "base_uri": "https://localhost:8080/",
          "height": 449
        }
      },
      "outputs": [
        {
          "output_type": "display_data",
          "data": {
            "text/plain": [
              "<Figure size 640x480 with 1 Axes>"
            ],
            "image/png": "[encoded data removed]"
          },
          "metadata": {}
        }
      ],
      "source": [
        "# Points on the regression line\n",
        "xplt = np.array([20,250])\n",
        "yplt = beta1*xplt + beta0\n",
        "\n",
        "plt.plot(xts,yts,'o')                    # Plot the data points\n",
        "plt.plot(xplt,yplt,'-',linewidth=3)  # Plot the regression line\n",
        "plt.xlabel(xstr)\n",
        "plt.ylabel('mpg')\n",
        "plt.grid(True)"
      ]
    },
    {
      "cell_type": "markdown",
      "metadata": {
        "id": "bNNuzDFy1Dd0"
      },
      "source": [
        "We next compute the mean squared error (MSE) of the fit:\n",
        "\n",
        "* `mse_tr`:  MSE on the training data.  This number is how well model fits the training data.\n",
        "* `mse_ts`:  MSE on the test data.  This number is more useful since it represents how well the fit is on *new* points not in the training data set.\n",
        "\n",
        "We will discuss the difference between training and test more later.  In this case, you may see that the MSE on the test data is a little higher."
      ]
    },
    {
      "cell_type": "code",
      "execution_count": 35,
      "metadata": {
        "id": "ptCoCc8s1Dd0",
        "outputId": "940e3501-8ae7-417b-df18-5ef4fe56fc7f",
        "colab": {
          "base_uri": "https://localhost:8080/"
        }
      },
      "outputs": [
        {
          "output_type": "stream",
          "name": "stdout",
          "text": [
            "MSE training = 21.4580\n",
            "MSE test     = 26.5939\n"
          ]
        }
      ],
      "source": [
        "# Training MSE\n",
        "yhat_tr=beta0+beta1*xtr\n",
        "mse_tr = np.mean((ytr-yhat_tr)**2)\n",
        "\n",
        "# Test MSE\n",
        "yhat_ts =beta0+beta1*xts\n",
        "mse_ts = np.mean((yts-yhat_ts)**2)\n",
        "\n",
        "\n",
        "print(\"MSE training = %7.4f\" % mse_tr)\n",
        "print(\"MSE test     = %7.4f\" % mse_ts)"
      ]
    },
    {
      "cell_type": "markdown",
      "metadata": {
        "id": "k8lfEI3S1Dd0"
      },
      "source": [
        "Let us see whether this is the same as the analytically derived minimal RSS"
      ]
    },
    {
      "cell_type": "code",
      "execution_count": 36,
      "metadata": {
        "id": "y5QQRGpS1Dd0",
        "outputId": "5a168d78-0577-4d68-f4d0-ca6445f2ebc4",
        "colab": {
          "base_uri": "https://localhost:8080/"
        }
      },
      "outputs": [
        {
          "output_type": "stream",
          "name": "stdout",
          "text": [
            "MSE theoretical = 21.4580\n"
          ]
        }
      ],
      "source": [
        "rxy=syx/np.sqrt(sxx)/np.sqrt(syy)\n",
        "mse_min =(1-rxy*rxy)*syy\n",
        "print('MSE theoretical = %7.4f' % mse_min)"
      ]
    },
    {
      "cell_type": "markdown",
      "metadata": {
        "id": "pXnJCmF31Dd0"
      },
      "source": [
        "**In-class exercise**:  Find the MSE on the test data points for the following three regions of `x`:\n",
        "\n",
        "*  `x <= 100`\n",
        "*  `x > 100` and `x <= 150`\n",
        "*  `x > 150`\n",
        "\n",
        "Which interval is the linear model most accurate?\n",
        "\n",
        "Bonus:  Try to do this with a loop over the three intervals.  "
      ]
    },
    {
      "cell_type": "code",
      "execution_count": 37,
      "metadata": {
        "id": "WFZhpLY41Dd0"
      },
      "outputs": [],
      "source": [
        "# TODO."
      ]
    },
    {
      "cell_type": "markdown",
      "metadata": {
        "collapsed": true,
        "id": "IYeA9-_I1Dd0"
      },
      "source": [
        "## Nonlinear Transformation\n",
        "\n",
        "We see that the linear regression captures the general trend of the relation between `y=mpg` and `x=horsepower`.  However, the trend does not really appear linear - instead it has an inverse type relation.   So, a natural idea is to use a *nonlinear transformation*:\n",
        "* Transform the data `z=1/y`\n",
        "* Fit `z` vs. `x` with a linear model:  $\\hat{z}=\\beta_0 + \\beta_1x$.\n",
        "* Invert the nonlinear relation for a model for `y`:  $\\hat{y} = \\hat{z}=1/(\\beta_0 + \\beta_1x)$.\n",
        "\n",
        "We begin then by computing `z` and plotting a scatter plot of `z` vs. `x`.  Note that `z` represented gallons per mile (1/mpg)."
      ]
    },
    {
      "cell_type": "code",
      "execution_count": 38,
      "metadata": {
        "id": "ZyMKYLuk1Dd0",
        "outputId": "a0485501-21e1-4dca-dd22-74ce09dd54ad",
        "colab": {
          "base_uri": "https://localhost:8080/",
          "height": 449
        }
      },
      "outputs": [
        {
          "output_type": "display_data",
          "data": {
            "text/plain": [
              "<Figure size 640x480 with 1 Axes>"
            ],
            "image/png": "[encoded data removed]"
          },
          "metadata": {}
        }
      ],
      "source": [
        "ztr = 1/ytr\n",
        "plt.plot(xtr,ztr,'o')\n",
        "plt.xlabel(xstr)\n",
        "plt.ylabel('1/mpg')\n",
        "plt.grid(True)"
      ]
    },
    {
      "cell_type": "markdown",
      "metadata": {
        "id": "EyElIbeK1Dd0"
      },
      "source": [
        "We see a clear linear relation between `z` (1/mpg) and `x` (horsepower). We can fit a linear model,\n",
        "$z = \\beta_0 + \\beta_1 x$.  "
      ]
    },
    {
      "cell_type": "code",
      "execution_count": 39,
      "metadata": {
        "id": "9ggdgRnT1Dd0"
      },
      "outputs": [],
      "source": [
        "# Use linear regression to fit `z` vs. `x`\n",
        "xm = np.mean(xtr)\n",
        "zm = np.mean(ztr)\n",
        "sxz = np.mean((ztr-zm)*(xtr-xm))\n",
        "sxx = np.mean((xtr-xm)**2)\n",
        "beta1_inv = sxz/sxx\n",
        "beta0_inv = zm - beta1_inv*xm"
      ]
    },
    {
      "cell_type": "markdown",
      "metadata": {
        "id": "XgubReih1Dd0"
      },
      "source": [
        "We can create a plot of the regression line on top of the scatter plot.  "
      ]
    },
    {
      "cell_type": "code",
      "execution_count": 40,
      "metadata": {
        "id": "p6vNDpTh1Dd0",
        "outputId": "a449f774-cf06-4db5-f701-be545debbc29",
        "colab": {
          "base_uri": "https://localhost:8080/",
          "height": 449
        }
      },
      "outputs": [
        {
          "output_type": "display_data",
          "data": {
            "text/plain": [
              "<Figure size 640x480 with 1 Axes>"
            ],
            "image/png": "[encoded data removed]"
          },
          "metadata": {}
        }
      ],
      "source": [
        "\n",
        "xplt_inv = np.linspace(20,250,100)\n",
        "zplt_inv = beta1_inv*xplt_inv + beta0_inv\n",
        "plt.plot(xtr,ztr,'o')\n",
        "plt.plot(xplt_inv,zplt_inv,'-',linewidth=3)\n",
        "plt.xlabel(xstr)\n",
        "plt.ylabel('1/mpg')\n",
        "plt.grid(True)"
      ]
    },
    {
      "cell_type": "markdown",
      "metadata": {
        "id": "_PXQqvoK1Dd0"
      },
      "source": [
        "Finally, we compute the estimate in the original domain:  $\\hat{y}=1/\\zhat{z}$.  We plot the data, original linear fit and the linear fit with inversion."
      ]
    },
    {
      "cell_type": "code",
      "execution_count": 41,
      "metadata": {
        "id": "T9cXZZsK1Dd0",
        "outputId": "cd735343-eda5-4a81-fbb3-cd296c13b145",
        "colab": {
          "base_uri": "https://localhost:8080/",
          "height": 466
        }
      },
      "outputs": [
        {
          "output_type": "execute_result",
          "data": {
            "text/plain": [
              "<matplotlib.legend.Legend at 0x7d87892516d0>"
            ]
          },
          "metadata": {},
          "execution_count": 41
        },
        {
          "output_type": "display_data",
          "data": {
            "text/plain": [
              "<Figure size 640x480 with 1 Axes>"
            ],
            "image/png": "[encoded data removed]"
          },
          "metadata": {}
        }
      ],
      "source": [
        "yplt_inv = 1/zplt_inv\n",
        "plt.plot(x,y,'o')\n",
        "plt.plot(xplt,yplt,'-',linewidth=3)\n",
        "plt.plot(xplt_inv,yplt_inv,'-',linewidth=3)\n",
        "plt.xlabel(xstr)\n",
        "plt.ylabel('mpg')\n",
        "plt.grid(True)\n",
        "plt.legend(['data', 'linear', 'linear+inversion'])"
      ]
    },
    {
      "cell_type": "markdown",
      "metadata": {
        "id": "Vsss4KEQ1Dd0"
      },
      "source": [
        "We can conclude by comparing the MSE using the linear fit and the linear fit+inversion.  We see that we get a slightly reduced error using the nonlinear transformation."
      ]
    },
    {
      "cell_type": "code",
      "execution_count": 42,
      "metadata": {
        "id": "0lWSYkHf1Dd0",
        "outputId": "0a2f77c6-5292-4220-8500-6d4d9309982f",
        "colab": {
          "base_uri": "https://localhost:8080/"
        }
      },
      "outputs": [
        {
          "output_type": "stream",
          "name": "stdout",
          "text": [
            "Test MSE =   26.59 (linear)\n",
            "Test MSE =   25.28 (linear+inversion)\n"
          ]
        }
      ],
      "source": [
        "zhat_inv = beta0_inv + beta1_inv*xts\n",
        "yhat_inv = 1/zhat_inv\n",
        "mse_ts_inv = np.mean((yhat_inv-yts)**2)\n",
        "print(\"Test MSE = {0:7.2f} (linear)\".format(mse_ts))\n",
        "print(\"Test MSE = {0:7.2f} (linear+inversion)\".format(mse_ts_inv))"
      ]
    },
    {
      "cell_type": "code",
      "execution_count": 42,
      "metadata": {
        "collapsed": true,
        "id": "JbV_Ik0E1Dd0"
      },
      "outputs": [],
      "source": []
    }
  ],
  "metadata": {
    "anaconda-cloud": {},
    "kernelspec": {
      "display_name": "Python 3",
      "language": "python",
      "name": "python3"
    },
    "language_info": {
      "codemirror_mode": {
        "name": "ipython",
        "version": 3
      },
      "file_extension": ".py",
      "mimetype": "text/x-python",
      "name": "python",
      "nbconvert_exporter": "python",
      "pygments_lexer": "ipython3",
      "version": "3.8.3"
    },
    "colab": {
      "provenance": []
    }
  },
  "nbformat": 4,
  "nbformat_minor": 0
}